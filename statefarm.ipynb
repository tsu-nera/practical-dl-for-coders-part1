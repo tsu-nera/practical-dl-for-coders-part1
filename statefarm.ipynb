{
 "cells": [
  {
   "cell_type": "markdown",
   "metadata": {},
   "source": [
    "# Use Vgg16 model with Keras\n",
    "\n",
    "[State Farm Distracted Driver Detection | Kaggle](https://www.kaggle.com/c/state-farm-distracted-driver-detection/data)"
   ]
  },
  {
   "cell_type": "code",
   "execution_count": null,
   "metadata": {
    "collapsed": true
   },
   "outputs": [],
   "source": [
    "%pwd"
   ]
  },
  {
   "cell_type": "code",
   "execution_count": 72,
   "metadata": {
    "collapsed": true
   },
   "outputs": [],
   "source": [
    "%matplotlib inline\n",
    "from __future__ import print_function, division\n",
    "#path = \"data/state/\"\n",
    "\n",
    "import os, sys\n",
    "sys.path.insert(1, os.path.join(sys.path[0], '../utils'))\n",
    "import utils; reload(utils)\n",
    "from utils import *\n",
    "from IPython.display import FileLink"
   ]
  },
  {
   "cell_type": "code",
   "execution_count": 88,
   "metadata": {
    "collapsed": true
   },
   "outputs": [],
   "source": [
    "DATA_HOME_DIR = \"/home/ubuntu/datasets/state-farm-distracted-driver-detection/\""
   ]
  },
  {
   "cell_type": "code",
   "execution_count": null,
   "metadata": {
    "collapsed": true
   },
   "outputs": [],
   "source": [
    "%cd $DATA_HOME_DIR"
   ]
  },
  {
   "cell_type": "code",
   "execution_count": null,
   "metadata": {
    "collapsed": true
   },
   "outputs": [],
   "source": [
    "%cd train"
   ]
  },
  {
   "cell_type": "code",
   "execution_count": null,
   "metadata": {
    "collapsed": true
   },
   "outputs": [],
   "source": [
    "%mkdir ../sample\n",
    "%mkdir ../sample/train\n",
    "%mkdir ../sample/valid"
   ]
  },
  {
   "cell_type": "code",
   "execution_count": null,
   "metadata": {
    "collapsed": true
   },
   "outputs": [],
   "source": [
    "# create c0 .. c9 in train/valid directory\n",
    "for d in glob('c?'):\n",
    "    os.mkdir('../sample/train/'+d)\n",
    "    os.mkdir('../sample/valid/'+d)"
   ]
  },
  {
   "cell_type": "code",
   "execution_count": null,
   "metadata": {
    "collapsed": true
   },
   "outputs": [],
   "source": [
    "from shutil import copyfile"
   ]
  },
  {
   "cell_type": "code",
   "execution_count": null,
   "metadata": {
    "collapsed": true
   },
   "outputs": [],
   "source": [
    "# copy c?/*.jpg to sample/train/c?/*.jpg\n",
    "g = glob('c?/*.jpg')\n",
    "shuf = np.random.permutation(g)\n",
    "for i in range(1500): copyfile(shuf[i], '../sample/train/' + shuf[i])"
   ]
  },
  {
   "cell_type": "code",
   "execution_count": null,
   "metadata": {
    "collapsed": true
   },
   "outputs": [],
   "source": [
    "%cd ../valid"
   ]
  },
  {
   "cell_type": "code",
   "execution_count": null,
   "metadata": {
    "collapsed": true
   },
   "outputs": [],
   "source": [
    "g = glob('c?/*.jpg')\n",
    "shuf = np.random.permutation(g)\n",
    "for i in range(1000): copyfile(shuf[i], '../sample/valid/' + shuf[i])"
   ]
  },
  {
   "cell_type": "code",
   "execution_count": null,
   "metadata": {
    "collapsed": true
   },
   "outputs": [],
   "source": [
    "%cd ../../.."
   ]
  },
  {
   "cell_type": "markdown",
   "metadata": {},
   "source": [
    "## train data with pre-trained model"
   ]
  },
  {
   "cell_type": "code",
   "execution_count": 62,
   "metadata": {
    "collapsed": true
   },
   "outputs": [],
   "source": [
    "import numpy as np\n",
    "import pandas as pd\n",
    "from numpy.random import random, permutation\n",
    "from scipy import misc, ndimage\n",
    "from scipy.ndimage.interpolation import zoom\n",
    "import keras\n",
    "from keras import backend as K\n",
    "from keras.utils.data_utils import get_file\n",
    "from keras.models import Sequential, Model\n",
    "from keras.layers.core import Flatten, Dense, Dropout, Lambda\n",
    "from keras.layers import Input\n",
    "from keras.layers.convolutional import Convolution2D, MaxPooling2D, ZeroPadding2D\n",
    "from keras.optimizers import SGD, RMSprop, Adam\n",
    "from keras.preprocessing import image"
   ]
  },
  {
   "cell_type": "code",
   "execution_count": 63,
   "metadata": {
    "collapsed": true
   },
   "outputs": [],
   "source": [
    "def ConvBlock(layers, model, filters):\n",
    "    for i in range(layers):\n",
    "        model.add(ZeroPadding2D((1,1)))\n",
    "        model.add(Convolution2D(filters, 3, 3, activation='relu'))\n",
    "    model.add(MaxPooling2D((2,2), strides=(2,2)))\n",
    "\n",
    "def FCBlock(model):\n",
    "    model.add(Dense(4096, activation='relu'))\n",
    "    model.add(Dropout(0.5))"
   ]
  },
  {
   "cell_type": "code",
   "execution_count": 64,
   "metadata": {
    "collapsed": true
   },
   "outputs": [],
   "source": [
    "def ConvBlock(layers, model, filters):\n",
    "    for i in range(layers):\n",
    "        model.add(ZeroPadding2D((1, 1)))\n",
    "        model.add(Convolution2D(filters, 3, 3, activation='relu'))\n",
    "        model.add(MaxPooling2D((2, 2), strides=(2, 2)))\n",
    "\n",
    "\n",
    "def FCBlock(model):\n",
    "    model.add(Dense(4096, activation='relu'))\n",
    "    model.add(BatchNormalization())\n",
    "    model.add(Dropout(0.5))"
   ]
  },
  {
   "cell_type": "code",
   "execution_count": 79,
   "metadata": {
    "collapsed": true
   },
   "outputs": [],
   "source": [
    "# Mean of each channel as provided by VGG researchers\n",
    "vgg_mean = np.array([123.68, 116.779, 103.939]).reshape((3,1,1))\n",
    "\n",
    "def vgg_preprocess(x):\n",
    "    x = x - vgg_mean     # subtract mean\n",
    "    return x[:, ::-1]    # reverse axis bgr->rgb\n",
    "\n",
    "def VGG_16BN():\n",
    "    model = Sequential()\n",
    "    model.add(Lambda(vgg_preprocess, input_shape=(3,224,224)))\n",
    "    ConvBlock(2, model, 64)\n",
    "    ConvBlock(2, model, 128)\n",
    "    ConvBlock(3, model, 256)\n",
    "    ConvBlock(3, model, 512)\n",
    "    ConvBlock(3, model, 512)\n",
    "    model.add(Flatten())\n",
    "    FCBlock(model)\n",
    "    FCBlock(model)\n",
    "    model.add(Dense(1000, activation='softmax'))\n",
    "    return model\n",
    "\n",
    "\n",
    "def finetune(model, num_classes):\n",
    "    # remove last layer\n",
    "    model.pop()\n",
    "    # set all layers untrainable.\n",
    "    for layer in model.layers: layer.trainable=False\n",
    "    # add new layer\n",
    "    model.add(Dense(num_classes, activation='softmax'))\n",
    "    model.compile(optimizer=Adam(lr=0.001),\n",
    "                loss='categorical_crossentropy', metrics=['accuracy'])\n",
    "    return model\n",
    "\n",
    "def get_batches(path, dirname, gen=image.ImageDataGenerator(), shuffle=True,\n",
    "                batch_size=64, class_mode='categorical'):\n",
    "    gen = image.ImageDataGenerator(rotation_range=8, width_shift_range=0.08, shear_range=0.3,\n",
    "                               height_shift_range=0.08, zoom_range=0.08)\n",
    "    return gen.flow_from_directory(path+dirname, target_size=(224,224),\n",
    "                class_mode=class_mode, shuffle=shuffle, batch_size=batch_size)"
   ]
  },
  {
   "cell_type": "markdown",
   "metadata": {},
   "source": [
    "get pre-trained weight from fast.ai server http://www.platform.ai/models/\n",
    "\n",
    "```wget http://files.fast.ai/models/vgg16.h5```\n",
    "\n",
    "You can also download [here](https://drive.google.com/file/d/0Bz7KyqmuGsilT0J5dmRCM0ROVHc/view)"
   ]
  },
  {
   "cell_type": "code",
   "execution_count": 69,
   "metadata": {
    "collapsed": true
   },
   "outputs": [],
   "source": [
    "def fit_model(model, batches, val_batches, nb_epoch=1):\n",
    "    model.fit_generator(batches, samples_per_epoch=batches.N, nb_epoch=nb_epoch, \n",
    "                        validation_data=val_batches, nb_val_samples=val_batches.N)"
   ]
  },
  {
   "cell_type": "code",
   "execution_count": 74,
   "metadata": {},
   "outputs": [
    {
     "name": "stdout",
     "output_type": "stream",
     "text": [
      "Downloading data from http://files.fast.ai/models/vgg16_bn.h5\n",
      "553369600/553620808 [============================>.] - ETA: 0s____________________________________________________________________________________________________\n",
      "Layer (type)                     Output Shape          Param #     Connected to                     \n",
      "====================================================================================================\n",
      "lambda_22 (Lambda)               (None, 3, 224, 224)   0           lambda_input_22[0][0]            \n",
      "____________________________________________________________________________________________________\n",
      "zeropadding2d_262 (ZeroPadding2D)(None, 3, 226, 226)   0           lambda_22[0][0]                  \n",
      "____________________________________________________________________________________________________\n",
      "convolution2d_261 (Convolution2D)(None, 64, 224, 224)  0           zeropadding2d_262[0][0]          \n",
      "____________________________________________________________________________________________________\n",
      "zeropadding2d_263 (ZeroPadding2D)(None, 64, 226, 226)  0           convolution2d_261[0][0]          \n",
      "____________________________________________________________________________________________________\n",
      "convolution2d_262 (Convolution2D)(None, 64, 224, 224)  0           zeropadding2d_263[0][0]          \n",
      "____________________________________________________________________________________________________\n",
      "maxpooling2d_253 (MaxPooling2D)  (None, 64, 112, 112)  0           convolution2d_262[0][0]          \n",
      "____________________________________________________________________________________________________\n",
      "zeropadding2d_264 (ZeroPadding2D)(None, 64, 114, 114)  0           maxpooling2d_253[0][0]           \n",
      "____________________________________________________________________________________________________\n",
      "convolution2d_263 (Convolution2D)(None, 128, 112, 112) 0           zeropadding2d_264[0][0]          \n",
      "____________________________________________________________________________________________________\n",
      "zeropadding2d_265 (ZeroPadding2D)(None, 128, 114, 114) 0           convolution2d_263[0][0]          \n",
      "____________________________________________________________________________________________________\n",
      "convolution2d_264 (Convolution2D)(None, 128, 112, 112) 0           zeropadding2d_265[0][0]          \n",
      "____________________________________________________________________________________________________\n",
      "maxpooling2d_254 (MaxPooling2D)  (None, 128, 56, 56)   0           convolution2d_264[0][0]          \n",
      "____________________________________________________________________________________________________\n",
      "zeropadding2d_266 (ZeroPadding2D)(None, 128, 58, 58)   0           maxpooling2d_254[0][0]           \n",
      "____________________________________________________________________________________________________\n",
      "convolution2d_265 (Convolution2D)(None, 256, 56, 56)   295168      zeropadding2d_266[0][0]          \n",
      "____________________________________________________________________________________________________\n",
      "zeropadding2d_267 (ZeroPadding2D)(None, 256, 58, 58)   0           convolution2d_265[0][0]          \n",
      "____________________________________________________________________________________________________\n",
      "convolution2d_266 (Convolution2D)(None, 256, 56, 56)   590080      zeropadding2d_267[0][0]          \n",
      "____________________________________________________________________________________________________\n",
      "zeropadding2d_268 (ZeroPadding2D)(None, 256, 58, 58)   0           convolution2d_266[0][0]          \n",
      "____________________________________________________________________________________________________\n",
      "convolution2d_267 (Convolution2D)(None, 256, 56, 56)   590080      zeropadding2d_268[0][0]          \n",
      "____________________________________________________________________________________________________\n",
      "maxpooling2d_255 (MaxPooling2D)  (None, 256, 28, 28)   0           convolution2d_267[0][0]          \n",
      "____________________________________________________________________________________________________\n",
      "zeropadding2d_269 (ZeroPadding2D)(None, 256, 30, 30)   0           maxpooling2d_255[0][0]           \n",
      "____________________________________________________________________________________________________\n",
      "convolution2d_268 (Convolution2D)(None, 512, 28, 28)   1180160     zeropadding2d_269[0][0]          \n",
      "____________________________________________________________________________________________________\n",
      "zeropadding2d_270 (ZeroPadding2D)(None, 512, 30, 30)   0           convolution2d_268[0][0]          \n",
      "____________________________________________________________________________________________________\n",
      "convolution2d_269 (Convolution2D)(None, 512, 28, 28)   2359808     zeropadding2d_270[0][0]          \n",
      "____________________________________________________________________________________________________\n",
      "zeropadding2d_271 (ZeroPadding2D)(None, 512, 30, 30)   0           convolution2d_269[0][0]          \n",
      "____________________________________________________________________________________________________\n",
      "convolution2d_270 (Convolution2D)(None, 512, 28, 28)   2359808     zeropadding2d_271[0][0]          \n",
      "____________________________________________________________________________________________________\n",
      "maxpooling2d_256 (MaxPooling2D)  (None, 512, 14, 14)   0           convolution2d_270[0][0]          \n",
      "____________________________________________________________________________________________________\n",
      "zeropadding2d_272 (ZeroPadding2D)(None, 512, 16, 16)   0           maxpooling2d_256[0][0]           \n",
      "____________________________________________________________________________________________________\n",
      "convolution2d_271 (Convolution2D)(None, 512, 14, 14)   2359808     zeropadding2d_272[0][0]          \n",
      "____________________________________________________________________________________________________\n",
      "zeropadding2d_273 (ZeroPadding2D)(None, 512, 16, 16)   0           convolution2d_271[0][0]          \n",
      "____________________________________________________________________________________________________\n",
      "convolution2d_272 (Convolution2D)(None, 512, 14, 14)   2359808     zeropadding2d_273[0][0]          \n",
      "____________________________________________________________________________________________________\n",
      "zeropadding2d_274 (ZeroPadding2D)(None, 512, 16, 16)   0           convolution2d_272[0][0]          \n",
      "____________________________________________________________________________________________________\n",
      "convolution2d_273 (Convolution2D)(None, 512, 14, 14)   2359808     zeropadding2d_274[0][0]          \n",
      "____________________________________________________________________________________________________\n",
      "maxpooling2d_257 (MaxPooling2D)  (None, 512, 7, 7)     0           convolution2d_273[0][0]          \n",
      "____________________________________________________________________________________________________\n",
      "flatten_18 (Flatten)             (None, 25088)         0           maxpooling2d_257[0][0]           \n",
      "____________________________________________________________________________________________________\n",
      "dense_5 (Dense)                  (None, 4096)          102764544   flatten_18[0][0]                 \n",
      "____________________________________________________________________________________________________\n",
      "batchnormalization_1 (BatchNormal(None, 4096)          8192        dense_5[0][0]                    \n",
      "____________________________________________________________________________________________________\n",
      "dropout_3 (Dropout)              (None, 4096)          0           batchnormalization_1[0][0]       \n",
      "____________________________________________________________________________________________________\n",
      "dense_6 (Dense)                  (None, 4096)          16781312    dropout_3[0][0]                  \n",
      "____________________________________________________________________________________________________\n",
      "batchnormalization_2 (BatchNormal(None, 4096)          8192        dense_6[0][0]                    \n",
      "____________________________________________________________________________________________________\n",
      "dropout_4 (Dropout)              (None, 4096)          0           batchnormalization_2[0][0]       \n",
      "____________________________________________________________________________________________________\n",
      "dense_9 (Dense)                  (None, 10)            40970       dropout_4[0][0]                  \n",
      "====================================================================================================\n",
      "Total params: 134057738\n",
      "____________________________________________________________________________________________________\n"
     ]
    }
   ],
   "source": [
    "#model = VGG_16BN()\n",
    "model = utils.vgg_ft_bn(1000)\n",
    "\n",
    "# load pre-trained weights!!!\n",
    "#model.load_weights('vgg16_bn.h5')\n",
    "\n",
    "# remove last layer and add new layer\n",
    "# ftmodel = finetune(model,10)\n",
    "\n",
    "model.pop()\n",
    "model.add(Dense(10, activation='softmax'))\n",
    "layers = model.layers\n",
    "opt = RMSprop(lr=0.1)\n",
    "model.compile(optimizer=opt, loss='categorical_crossentropy', metrics=['accuracy'])\n",
    "for layer in layers[12:]: layer.trainable=True\n",
    "K.set_value(opt.lr, 0.001)\n",
    "\n",
    "\n",
    "model.summary()"
   ]
  },
  {
   "cell_type": "code",
   "execution_count": 87,
   "metadata": {
    "collapsed": true
   },
   "outputs": [],
   "source": [
    "batch_size=64\n",
    "# path = DATA_HOME_DIR\n",
    "path = \"/home/ubuntu/datasets/state-farm-distracted-driver-detection/sample/\""
   ]
  },
  {
   "cell_type": "code",
   "execution_count": 80,
   "metadata": {},
   "outputs": [
    {
     "name": "stdout",
     "output_type": "stream",
     "text": [
      "Found 1500 images belonging to 10 classes.\n",
      "Found 1000 images belonging to 10 classes.\n"
     ]
    }
   ],
   "source": [
    "batches = get_batches(path,'train', batch_size=batch_size)\n",
    "val_batches = get_batches(path,'valid', batch_size=batch_size)"
   ]
  },
  {
   "cell_type": "code",
   "execution_count": 85,
   "metadata": {},
   "outputs": [
    {
     "name": "stdout",
     "output_type": "stream",
     "text": [
      "Running epoch: 0\n",
      "Epoch 1/1\n",
      "1500/1500 [==============================] - 64s - loss: 3.5555 - acc: 0.3187 - val_loss: 2.0109 - val_acc: 0.4120\n"
     ]
    }
   ],
   "source": [
    "# train finetuned model(only last layer)\n",
    "no_of_epochs=1\n",
    "\n",
    "for epoch in range(no_of_epochs):\n",
    "    print(\"Running epoch: %d\" % epoch)\n",
    "    model.fit_generator(batches, samples_per_epoch=batches.nb_sample, nb_epoch=1,\n",
    "                validation_data=val_batches, nb_val_samples=val_batches.nb_sample)\n",
    "    latest_weights_filename = 'ft%d.h5' % epoch\n",
    "    model.save_weights(latest_weights_filename)"
   ]
  },
  {
   "cell_type": "code",
   "execution_count": null,
   "metadata": {
    "collapsed": true
   },
   "outputs": [],
   "source": [
    "model.load_weights(\"ft0.h5\")"
   ]
  },
  {
   "cell_type": "markdown",
   "metadata": {},
   "source": [
    "## test data"
   ]
  },
  {
   "cell_type": "code",
   "execution_count": 89,
   "metadata": {
    "scrolled": true
   },
   "outputs": [
    {
     "name": "stdout",
     "output_type": "stream",
     "text": [
      "Found 79726 images belonging to 1 classes.\n"
     ]
    }
   ],
   "source": [
    "test_batches = get_batches(DATA_HOME_DIR, 'test', batch_size=2*batch_size, class_mode=None)\n",
    "preds = model.predict_generator(test_batches, test_batches.nb_sample)"
   ]
  },
  {
   "cell_type": "code",
   "execution_count": 90,
   "metadata": {
    "collapsed": true
   },
   "outputs": [],
   "source": [
    "def do_clip(arr, mx): return np.clip(arr, (1-mx)/9, mx)\n",
    "preds = do_clip(preds,0.93)"
   ]
  },
  {
   "cell_type": "code",
   "execution_count": 91,
   "metadata": {},
   "outputs": [
    {
     "data": {
      "text/html": [
       "<div>\n",
       "<table border=\"1\" class=\"dataframe\">\n",
       "  <thead>\n",
       "    <tr style=\"text-align: right;\">\n",
       "      <th></th>\n",
       "      <th>img</th>\n",
       "      <th>c0</th>\n",
       "      <th>c1</th>\n",
       "      <th>c2</th>\n",
       "      <th>c3</th>\n",
       "      <th>c4</th>\n",
       "      <th>c5</th>\n",
       "      <th>c6</th>\n",
       "      <th>c7</th>\n",
       "      <th>c8</th>\n",
       "      <th>c9</th>\n",
       "    </tr>\n",
       "  </thead>\n",
       "  <tbody>\n",
       "    <tr>\n",
       "      <th>0</th>\n",
       "      <td>img_81601.jpg</td>\n",
       "      <td>0.007778</td>\n",
       "      <td>0.007778</td>\n",
       "      <td>0.007778</td>\n",
       "      <td>0.023860</td>\n",
       "      <td>0.527727</td>\n",
       "      <td>0.007778</td>\n",
       "      <td>0.084808</td>\n",
       "      <td>0.007778</td>\n",
       "      <td>0.329806</td>\n",
       "      <td>0.021379</td>\n",
       "    </tr>\n",
       "    <tr>\n",
       "      <th>1</th>\n",
       "      <td>img_14887.jpg</td>\n",
       "      <td>0.133472</td>\n",
       "      <td>0.537916</td>\n",
       "      <td>0.199265</td>\n",
       "      <td>0.007778</td>\n",
       "      <td>0.007778</td>\n",
       "      <td>0.009557</td>\n",
       "      <td>0.076317</td>\n",
       "      <td>0.007778</td>\n",
       "      <td>0.007778</td>\n",
       "      <td>0.031945</td>\n",
       "    </tr>\n",
       "    <tr>\n",
       "      <th>2</th>\n",
       "      <td>img_62885.jpg</td>\n",
       "      <td>0.148337</td>\n",
       "      <td>0.061166</td>\n",
       "      <td>0.007778</td>\n",
       "      <td>0.042405</td>\n",
       "      <td>0.053649</td>\n",
       "      <td>0.628524</td>\n",
       "      <td>0.014313</td>\n",
       "      <td>0.017195</td>\n",
       "      <td>0.007778</td>\n",
       "      <td>0.031956</td>\n",
       "    </tr>\n",
       "    <tr>\n",
       "      <th>3</th>\n",
       "      <td>img_45125.jpg</td>\n",
       "      <td>0.054057</td>\n",
       "      <td>0.015053</td>\n",
       "      <td>0.301728</td>\n",
       "      <td>0.007778</td>\n",
       "      <td>0.584601</td>\n",
       "      <td>0.007778</td>\n",
       "      <td>0.009273</td>\n",
       "      <td>0.007778</td>\n",
       "      <td>0.007778</td>\n",
       "      <td>0.023790</td>\n",
       "    </tr>\n",
       "    <tr>\n",
       "      <th>4</th>\n",
       "      <td>img_22633.jpg</td>\n",
       "      <td>0.007778</td>\n",
       "      <td>0.007778</td>\n",
       "      <td>0.549735</td>\n",
       "      <td>0.007778</td>\n",
       "      <td>0.221140</td>\n",
       "      <td>0.007778</td>\n",
       "      <td>0.075547</td>\n",
       "      <td>0.007778</td>\n",
       "      <td>0.137820</td>\n",
       "      <td>0.007778</td>\n",
       "    </tr>\n",
       "  </tbody>\n",
       "</table>\n",
       "</div>"
      ],
      "text/plain": [
       "             img        c0        c1        c2        c3        c4        c5  \\\n",
       "0  img_81601.jpg  0.007778  0.007778  0.007778  0.023860  0.527727  0.007778   \n",
       "1  img_14887.jpg  0.133472  0.537916  0.199265  0.007778  0.007778  0.009557   \n",
       "2  img_62885.jpg  0.148337  0.061166  0.007778  0.042405  0.053649  0.628524   \n",
       "3  img_45125.jpg  0.054057  0.015053  0.301728  0.007778  0.584601  0.007778   \n",
       "4  img_22633.jpg  0.007778  0.007778  0.549735  0.007778  0.221140  0.007778   \n",
       "\n",
       "         c6        c7        c8        c9  \n",
       "0  0.084808  0.007778  0.329806  0.021379  \n",
       "1  0.076317  0.007778  0.007778  0.031945  \n",
       "2  0.014313  0.017195  0.007778  0.031956  \n",
       "3  0.009273  0.007778  0.007778  0.023790  \n",
       "4  0.075547  0.007778  0.137820  0.007778  "
      ]
     },
     "execution_count": 91,
     "metadata": {},
     "output_type": "execute_result"
    }
   ],
   "source": [
    "classes = sorted(batches.class_indices, key=batches.class_indices.get)\n",
    "submission = pd.DataFrame(preds, columns=classes)\n",
    "submission.insert(0, 'img', [a[8:] for a in test_batches.filenames])\n",
    "submission.head()"
   ]
  },
  {
   "cell_type": "code",
   "execution_count": 92,
   "metadata": {
    "collapsed": true
   },
   "outputs": [],
   "source": [
    "submission.to_csv(\"submission4.csv\", index=False)"
   ]
  },
  {
   "cell_type": "code",
   "execution_count": 93,
   "metadata": {},
   "outputs": [
    {
     "data": {
      "text/html": [
       "<a href='submission4.csv' target='_blank'>submission4.csv</a><br>"
      ],
      "text/plain": [
       "/home/ubuntu/nbs/lesson4/submission4.csv"
      ]
     },
     "execution_count": 93,
     "metadata": {},
     "output_type": "execute_result"
    }
   ],
   "source": [
    "FileLink(\"submission4.csv\")"
   ]
  }
 ],
 "metadata": {
  "anaconda-cloud": {},
  "kernelspec": {
   "display_name": "Python 2",
   "language": "python",
   "name": "python2"
  },
  "language_info": {
   "codemirror_mode": {
    "name": "ipython",
    "version": 2
   },
   "file_extension": ".py",
   "mimetype": "text/x-python",
   "name": "python",
   "nbconvert_exporter": "python",
   "pygments_lexer": "ipython2",
   "version": "2.7.12"
  },
  "toc": {
   "colors": {
    "hover_highlight": "#DAA520",
    "running_highlight": "#FF0000",
    "selected_highlight": "#FFD700"
   },
   "moveMenuLeft": true,
   "nav_menu": {
    "height": "86px",
    "width": "252px"
   },
   "navigate_menu": true,
   "number_sections": false,
   "sideBar": true,
   "threshold": 4,
   "toc_cell": false,
   "toc_section_display": "block",
   "toc_window_display": false,
   "widenNotebook": false
  }
 },
 "nbformat": 4,
 "nbformat_minor": 1
}
